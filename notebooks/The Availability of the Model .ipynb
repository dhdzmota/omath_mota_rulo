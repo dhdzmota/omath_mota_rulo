{
 "cells": [
  {
   "cell_type": "markdown",
   "metadata": {},
   "source": [
    "# The Availability of the Model "
   ]
  },
  {
   "cell_type": "code",
   "execution_count": 1,
   "metadata": {},
   "outputs": [],
   "source": [
    "import os\n",
    "import sys\n",
    "import urllib3\n",
    "import json\n",
    "\n",
    "notebook_path = !pwd\n",
    "prj_path = os.path.abspath(os.path.join(notebook_path[0], '../', ''))\n",
    "sys.path.append(prj_path)\n",
    "\n",
    "http = urllib3.PoolManager()\n",
    "SERVICE = 'https://ckjvzpumn0.execute-api.us-east-2.amazonaws.com/api/get_score'\n",
    "\n",
    "from data_scientia.data import capacidad_hospitalaria"
   ]
  },
  {
   "cell_type": "code",
   "execution_count": 2,
   "metadata": {},
   "outputs": [
    {
     "data": {
      "text/plain": [
       "array(['INSTITUTO NACIONAL DE NUTRICIÓN',\n",
       "       'INSTITUTO NACIONAL DE ENFERMEDADES RESPIRATORIAS',\n",
       "       'HOSPITAL GENERAL DE MÉXICO',\n",
       "       'HOSPITAL DE ESPECIALIDADES DE LA CIUDAD DE MÉXICO DR BELISARIO DOMÍNGUEZ',\n",
       "       'HOSPITAL DE PEDIATRÍA 01 CMN SIGLO XXI (CDMX SUR)',\n",
       "       'HOSPITAL GENERAL 01 (CDMX NORTE)',\n",
       "       'HOSPITAL GENERAL DE ZONA 24 (CDMX NORTE)',\n",
       "       'HOSPITAL GENERAL DE ZONA 32 (CDMX SUR)',\n",
       "       'HOSPITAL GENERAL DE ZONA C/UMAA 48 (CDMX NORTE)',\n",
       "       'CENTRO MÉDICO 20 DE NOVIEMBRE'], dtype=object)"
      ]
     },
     "execution_count": 2,
     "metadata": {},
     "output_type": "execute_result"
    }
   ],
   "source": [
    "hospital_list = capacidad_hospitalaria.get()['nombre_hospital'].unique()\n",
    "hospital_list[:10]"
   ]
  },
  {
   "cell_type": "code",
   "execution_count": 3,
   "metadata": {},
   "outputs": [
    {
     "name": "stderr",
     "output_type": "stream",
     "text": [
      "/Users/lsanchez/anaconda3/envs/data_scientia/lib/python3.7/site-packages/urllib3/connectionpool.py:847: InsecureRequestWarning: Unverified HTTPS request is being made. Adding certificate verification is strongly advised. See: https://urllib3.readthedocs.io/en/latest/advanced-usage.html#ssl-warnings\n",
      "  InsecureRequestWarning)\n"
     ]
    },
    {
     "name": "stdout",
     "output_type": "stream",
     "text": [
      "CENTRO MÉDICO ADOLFO LÓPEZ MATEOS {'Result': 0.29577649964925756}\n"
     ]
    }
   ],
   "source": [
    "hospital = 'CENTRO MÉDICO ADOLFO LÓPEZ MATEOS'\n",
    "\n",
    "request_data = {\n",
    "    'hospital': hospital, \n",
    "    'date':'2020-10-30'}\n",
    "\n",
    "response = http.request(\n",
    "    'POST',\n",
    "    SERVICE,\n",
    "    body=json.dumps(request_data).encode('utf-8'),\n",
    "    headers={'Content-Type':'application/json'})\n",
    "\n",
    "score = json.loads(response.data.decode('utf-8'))\n",
    "print(hospital, score)"
   ]
  },
  {
   "cell_type": "code",
   "execution_count": 4,
   "metadata": {},
   "outputs": [
    {
     "name": "stderr",
     "output_type": "stream",
     "text": [
      "/Users/lsanchez/anaconda3/envs/data_scientia/lib/python3.7/site-packages/urllib3/connectionpool.py:847: InsecureRequestWarning: Unverified HTTPS request is being made. Adding certificate verification is strongly advised. See: https://urllib3.readthedocs.io/en/latest/advanced-usage.html#ssl-warnings\n",
      "  InsecureRequestWarning)\n"
     ]
    },
    {
     "name": "stdout",
     "output_type": "stream",
     "text": [
      "HG JOSÉ MARÍA MORELOS {'Result': 0.513101267951629}\n"
     ]
    }
   ],
   "source": [
    "hospital = 'HG JOSÉ MARÍA MORELOS'\n",
    "\n",
    "request_data = {\n",
    "    'hospital': hospital, \n",
    "    'date':'2020-10-30'}\n",
    "\n",
    "response = http.request(\n",
    "    'POST',\n",
    "    SERVICE,\n",
    "    body=json.dumps(request_data).encode('utf-8'),\n",
    "    headers={'Content-Type':'application/json'})\n",
    "\n",
    "score = json.loads(response.data.decode('utf-8'))\n",
    "print(hospital, score)"
   ]
  },
  {
   "cell_type": "code",
   "execution_count": null,
   "metadata": {},
   "outputs": [],
   "source": []
  }
 ],
 "metadata": {
  "kernelspec": {
   "display_name": "Python 3",
   "language": "python",
   "name": "python3"
  },
  "language_info": {
   "codemirror_mode": {
    "name": "ipython",
    "version": 3
   },
   "file_extension": ".py",
   "mimetype": "text/x-python",
   "name": "python",
   "nbconvert_exporter": "python",
   "pygments_lexer": "ipython3",
   "version": "3.7.3"
  }
 },
 "nbformat": 4,
 "nbformat_minor": 4
}
