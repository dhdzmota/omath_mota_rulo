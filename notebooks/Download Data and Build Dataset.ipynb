{
 "cells": [
  {
   "cell_type": "code",
   "execution_count": 1,
   "metadata": {},
   "outputs": [
    {
     "name": "stdout",
     "output_type": "stream",
     "text": [
      "Added: /Users/lsanchez/omath_mota_rulo\n"
     ]
    }
   ],
   "source": [
    "%matplotlib inline\n",
    "\n",
    "import os\n",
    "import json\n",
    "import math\n",
    "import sys\n",
    "import numpy as np\n",
    "import pandas as pd\n",
    "import datetime\n",
    "\n",
    "import matplotlib.pyplot as plt\n",
    "from matplotlib.dates import date2num\n",
    "\n",
    "notebook_path = !pwd\n",
    "prj_path = os.path.abspath(os.path.join(notebook_path[0], '../', ''))\n",
    "sys.path.append(prj_path)\n",
    "print('Added: %s' % prj_path)"
   ]
  },
  {
   "cell_type": "code",
   "execution_count": 2,
   "metadata": {},
   "outputs": [],
   "source": [
    "from data_scientia.data import covid_municipalities\n",
    "from data_scientia.data import capacidad_hospitalaria\n",
    "from data_scientia.features import target_days_to_peak\n",
    "from data_scientia.features import train_data"
   ]
  },
  {
   "cell_type": "code",
   "execution_count": 3,
   "metadata": {},
   "outputs": [
    {
     "name": "stderr",
     "output_type": "stream",
     "text": [
      "/Users/lsanchez/anaconda3/envs/data_scientia/lib/python3.7/site-packages/urllib3/connectionpool.py:847: InsecureRequestWarning: Unverified HTTPS request is being made. Adding certificate verification is strongly advised. See: https://urllib3.readthedocs.io/en/latest/advanced-usage.html#ssl-warnings\n",
      "  InsecureRequestWarning)\n",
      "/Users/lsanchez/anaconda3/envs/data_scientia/lib/python3.7/site-packages/urllib3/connectionpool.py:847: InsecureRequestWarning: Unverified HTTPS request is being made. Adding certificate verification is strongly advised. See: https://urllib3.readthedocs.io/en/latest/advanced-usage.html#ssl-warnings\n",
      "  InsecureRequestWarning)\n"
     ]
    },
    {
     "name": "stdout",
     "output_type": "stream",
     "text": [
      "&refine.fecha=2019%2F00 0\n",
      "&refine.fecha=2019%2F01 0\n"
     ]
    },
    {
     "name": "stderr",
     "output_type": "stream",
     "text": [
      "/Users/lsanchez/anaconda3/envs/data_scientia/lib/python3.7/site-packages/urllib3/connectionpool.py:847: InsecureRequestWarning: Unverified HTTPS request is being made. Adding certificate verification is strongly advised. See: https://urllib3.readthedocs.io/en/latest/advanced-usage.html#ssl-warnings\n",
      "  InsecureRequestWarning)\n",
      "/Users/lsanchez/anaconda3/envs/data_scientia/lib/python3.7/site-packages/urllib3/connectionpool.py:847: InsecureRequestWarning: Unverified HTTPS request is being made. Adding certificate verification is strongly advised. See: https://urllib3.readthedocs.io/en/latest/advanced-usage.html#ssl-warnings\n",
      "  InsecureRequestWarning)\n"
     ]
    },
    {
     "name": "stdout",
     "output_type": "stream",
     "text": [
      "&refine.fecha=2019%2F02 0\n",
      "&refine.fecha=2019%2F03 0\n"
     ]
    },
    {
     "name": "stderr",
     "output_type": "stream",
     "text": [
      "/Users/lsanchez/anaconda3/envs/data_scientia/lib/python3.7/site-packages/urllib3/connectionpool.py:847: InsecureRequestWarning: Unverified HTTPS request is being made. Adding certificate verification is strongly advised. See: https://urllib3.readthedocs.io/en/latest/advanced-usage.html#ssl-warnings\n",
      "  InsecureRequestWarning)\n",
      "/Users/lsanchez/anaconda3/envs/data_scientia/lib/python3.7/site-packages/urllib3/connectionpool.py:847: InsecureRequestWarning: Unverified HTTPS request is being made. Adding certificate verification is strongly advised. See: https://urllib3.readthedocs.io/en/latest/advanced-usage.html#ssl-warnings\n",
      "  InsecureRequestWarning)\n"
     ]
    },
    {
     "name": "stdout",
     "output_type": "stream",
     "text": [
      "&refine.fecha=2019%2F04 0\n",
      "&refine.fecha=2019%2F05 0\n"
     ]
    },
    {
     "name": "stderr",
     "output_type": "stream",
     "text": [
      "/Users/lsanchez/anaconda3/envs/data_scientia/lib/python3.7/site-packages/urllib3/connectionpool.py:847: InsecureRequestWarning: Unverified HTTPS request is being made. Adding certificate verification is strongly advised. See: https://urllib3.readthedocs.io/en/latest/advanced-usage.html#ssl-warnings\n",
      "  InsecureRequestWarning)\n",
      "/Users/lsanchez/anaconda3/envs/data_scientia/lib/python3.7/site-packages/urllib3/connectionpool.py:847: InsecureRequestWarning: Unverified HTTPS request is being made. Adding certificate verification is strongly advised. See: https://urllib3.readthedocs.io/en/latest/advanced-usage.html#ssl-warnings\n",
      "  InsecureRequestWarning)\n"
     ]
    },
    {
     "name": "stdout",
     "output_type": "stream",
     "text": [
      "&refine.fecha=2019%2F06 0\n",
      "&refine.fecha=2019%2F07 0\n"
     ]
    },
    {
     "name": "stderr",
     "output_type": "stream",
     "text": [
      "/Users/lsanchez/anaconda3/envs/data_scientia/lib/python3.7/site-packages/urllib3/connectionpool.py:847: InsecureRequestWarning: Unverified HTTPS request is being made. Adding certificate verification is strongly advised. See: https://urllib3.readthedocs.io/en/latest/advanced-usage.html#ssl-warnings\n",
      "  InsecureRequestWarning)\n",
      "/Users/lsanchez/anaconda3/envs/data_scientia/lib/python3.7/site-packages/urllib3/connectionpool.py:847: InsecureRequestWarning: Unverified HTTPS request is being made. Adding certificate verification is strongly advised. See: https://urllib3.readthedocs.io/en/latest/advanced-usage.html#ssl-warnings\n",
      "  InsecureRequestWarning)\n"
     ]
    },
    {
     "name": "stdout",
     "output_type": "stream",
     "text": [
      "&refine.fecha=2019%2F08 0\n",
      "&refine.fecha=2019%2F09 0\n",
      "&refine.fecha=2019%2F10 0\n"
     ]
    },
    {
     "name": "stderr",
     "output_type": "stream",
     "text": [
      "/Users/lsanchez/anaconda3/envs/data_scientia/lib/python3.7/site-packages/urllib3/connectionpool.py:847: InsecureRequestWarning: Unverified HTTPS request is being made. Adding certificate verification is strongly advised. See: https://urllib3.readthedocs.io/en/latest/advanced-usage.html#ssl-warnings\n",
      "  InsecureRequestWarning)\n",
      "/Users/lsanchez/anaconda3/envs/data_scientia/lib/python3.7/site-packages/urllib3/connectionpool.py:847: InsecureRequestWarning: Unverified HTTPS request is being made. Adding certificate verification is strongly advised. See: https://urllib3.readthedocs.io/en/latest/advanced-usage.html#ssl-warnings\n",
      "  InsecureRequestWarning)\n"
     ]
    },
    {
     "name": "stdout",
     "output_type": "stream",
     "text": [
      "&refine.fecha=2019%2F11 0\n",
      "&refine.fecha=2019%2F12 0\n"
     ]
    },
    {
     "name": "stderr",
     "output_type": "stream",
     "text": [
      "/Users/lsanchez/anaconda3/envs/data_scientia/lib/python3.7/site-packages/urllib3/connectionpool.py:847: InsecureRequestWarning: Unverified HTTPS request is being made. Adding certificate verification is strongly advised. See: https://urllib3.readthedocs.io/en/latest/advanced-usage.html#ssl-warnings\n",
      "  InsecureRequestWarning)\n",
      "/Users/lsanchez/anaconda3/envs/data_scientia/lib/python3.7/site-packages/urllib3/connectionpool.py:847: InsecureRequestWarning: Unverified HTTPS request is being made. Adding certificate verification is strongly advised. See: https://urllib3.readthedocs.io/en/latest/advanced-usage.html#ssl-warnings\n",
      "  InsecureRequestWarning)\n"
     ]
    },
    {
     "name": "stdout",
     "output_type": "stream",
     "text": [
      "&refine.fecha=2020%2F00 0\n",
      "&refine.fecha=2020%2F01 0\n"
     ]
    },
    {
     "name": "stderr",
     "output_type": "stream",
     "text": [
      "/Users/lsanchez/anaconda3/envs/data_scientia/lib/python3.7/site-packages/urllib3/connectionpool.py:847: InsecureRequestWarning: Unverified HTTPS request is being made. Adding certificate verification is strongly advised. See: https://urllib3.readthedocs.io/en/latest/advanced-usage.html#ssl-warnings\n",
      "  InsecureRequestWarning)\n",
      "/Users/lsanchez/anaconda3/envs/data_scientia/lib/python3.7/site-packages/urllib3/connectionpool.py:847: InsecureRequestWarning: Unverified HTTPS request is being made. Adding certificate verification is strongly advised. See: https://urllib3.readthedocs.io/en/latest/advanced-usage.html#ssl-warnings\n",
      "  InsecureRequestWarning)\n"
     ]
    },
    {
     "name": "stdout",
     "output_type": "stream",
     "text": [
      "&refine.fecha=2020%2F02 0\n",
      "&refine.fecha=2020%2F03 0\n"
     ]
    },
    {
     "name": "stderr",
     "output_type": "stream",
     "text": [
      "/Users/lsanchez/anaconda3/envs/data_scientia/lib/python3.7/site-packages/urllib3/connectionpool.py:847: InsecureRequestWarning: Unverified HTTPS request is being made. Adding certificate verification is strongly advised. See: https://urllib3.readthedocs.io/en/latest/advanced-usage.html#ssl-warnings\n",
      "  InsecureRequestWarning)\n",
      "/Users/lsanchez/anaconda3/envs/data_scientia/lib/python3.7/site-packages/urllib3/connectionpool.py:847: InsecureRequestWarning: Unverified HTTPS request is being made. Adding certificate verification is strongly advised. See: https://urllib3.readthedocs.io/en/latest/advanced-usage.html#ssl-warnings\n",
      "  InsecureRequestWarning)\n"
     ]
    },
    {
     "name": "stdout",
     "output_type": "stream",
     "text": [
      "&refine.fecha=2020%2F04 1265\n"
     ]
    },
    {
     "name": "stderr",
     "output_type": "stream",
     "text": [
      "/Users/lsanchez/anaconda3/envs/data_scientia/lib/python3.7/site-packages/urllib3/connectionpool.py:847: InsecureRequestWarning: Unverified HTTPS request is being made. Adding certificate verification is strongly advised. See: https://urllib3.readthedocs.io/en/latest/advanced-usage.html#ssl-warnings\n",
      "  InsecureRequestWarning)\n"
     ]
    },
    {
     "name": "stdout",
     "output_type": "stream",
     "text": [
      "&refine.fecha=2020%2F05 2372\n"
     ]
    },
    {
     "name": "stderr",
     "output_type": "stream",
     "text": [
      "/Users/lsanchez/anaconda3/envs/data_scientia/lib/python3.7/site-packages/urllib3/connectionpool.py:847: InsecureRequestWarning: Unverified HTTPS request is being made. Adding certificate verification is strongly advised. See: https://urllib3.readthedocs.io/en/latest/advanced-usage.html#ssl-warnings\n",
      "  InsecureRequestWarning)\n"
     ]
    },
    {
     "name": "stdout",
     "output_type": "stream",
     "text": [
      "&refine.fecha=2020%2F06 2201\n"
     ]
    },
    {
     "name": "stderr",
     "output_type": "stream",
     "text": [
      "/Users/lsanchez/anaconda3/envs/data_scientia/lib/python3.7/site-packages/urllib3/connectionpool.py:847: InsecureRequestWarning: Unverified HTTPS request is being made. Adding certificate verification is strongly advised. See: https://urllib3.readthedocs.io/en/latest/advanced-usage.html#ssl-warnings\n",
      "  InsecureRequestWarning)\n"
     ]
    },
    {
     "name": "stdout",
     "output_type": "stream",
     "text": [
      "&refine.fecha=2020%2F07 2396\n"
     ]
    },
    {
     "name": "stderr",
     "output_type": "stream",
     "text": [
      "/Users/lsanchez/anaconda3/envs/data_scientia/lib/python3.7/site-packages/urllib3/connectionpool.py:847: InsecureRequestWarning: Unverified HTTPS request is being made. Adding certificate verification is strongly advised. See: https://urllib3.readthedocs.io/en/latest/advanced-usage.html#ssl-warnings\n",
      "  InsecureRequestWarning)\n"
     ]
    },
    {
     "name": "stdout",
     "output_type": "stream",
     "text": [
      "&refine.fecha=2020%2F08 2418\n"
     ]
    },
    {
     "name": "stderr",
     "output_type": "stream",
     "text": [
      "/Users/lsanchez/anaconda3/envs/data_scientia/lib/python3.7/site-packages/urllib3/connectionpool.py:847: InsecureRequestWarning: Unverified HTTPS request is being made. Adding certificate verification is strongly advised. See: https://urllib3.readthedocs.io/en/latest/advanced-usage.html#ssl-warnings\n",
      "  InsecureRequestWarning)\n"
     ]
    },
    {
     "name": "stdout",
     "output_type": "stream",
     "text": [
      "&refine.fecha=2020%2F09 2340\n"
     ]
    },
    {
     "name": "stderr",
     "output_type": "stream",
     "text": [
      "/Users/lsanchez/anaconda3/envs/data_scientia/lib/python3.7/site-packages/urllib3/connectionpool.py:847: InsecureRequestWarning: Unverified HTTPS request is being made. Adding certificate verification is strongly advised. See: https://urllib3.readthedocs.io/en/latest/advanced-usage.html#ssl-warnings\n",
      "  InsecureRequestWarning)\n"
     ]
    },
    {
     "name": "stdout",
     "output_type": "stream",
     "text": [
      "&refine.fecha=2020%2F10 2418\n"
     ]
    },
    {
     "name": "stderr",
     "output_type": "stream",
     "text": [
      "/Users/lsanchez/anaconda3/envs/data_scientia/lib/python3.7/site-packages/urllib3/connectionpool.py:847: InsecureRequestWarning: Unverified HTTPS request is being made. Adding certificate verification is strongly advised. See: https://urllib3.readthedocs.io/en/latest/advanced-usage.html#ssl-warnings\n",
      "  InsecureRequestWarning)\n"
     ]
    },
    {
     "name": "stdout",
     "output_type": "stream",
     "text": [
      "&refine.fecha=2020%2F11 2340\n",
      "&refine.fecha=2020%2F12 78\n"
     ]
    },
    {
     "name": "stderr",
     "output_type": "stream",
     "text": [
      "/Users/lsanchez/anaconda3/envs/data_scientia/lib/python3.7/site-packages/urllib3/connectionpool.py:847: InsecureRequestWarning: Unverified HTTPS request is being made. Adding certificate verification is strongly advised. See: https://urllib3.readthedocs.io/en/latest/advanced-usage.html#ssl-warnings\n",
      "  InsecureRequestWarning)\n",
      "/Users/lsanchez/omath_mota_rulo/data_scientia/data/covid_municipalities.py:86: DtypeWarning: Columns (13) have mixed types.Specify dtype option on import or set low_memory=False.\n",
      "  **municipios.get_municipio_codes(state_name='Jalisco'),\n"
     ]
    },
    {
     "name": "stdout",
     "output_type": "stream",
     "text": [
      "Acatic 14001\n",
      "Acatlán de Juárez 14002\n",
      "Ahualulco de Mercado 14003\n",
      "Amacueca 14004\n",
      "Amatitán 14005\n",
      "Ameca 14006\n",
      "San Juanito de Escobedo 14007\n",
      "Arandas 14008\n",
      "El Arenal 14009\n",
      "Atemajac de Brizuela 14010\n",
      "Atengo 14011\n",
      "Atenguillo 14012\n",
      "Atotonilco el Alto 14013\n",
      "Atoyac 14014\n",
      "Autlán de Navarro 14015\n",
      "Ayotlán 14016\n",
      "Ayutla 14017\n",
      "La Barca 14018\n",
      "Bolaños 14019\n",
      "Cabo Corrientes 14020\n",
      "Casimiro Castillo 14021\n",
      "Cihuatlán 14022\n",
      "Zapotlán el Grande 14023\n",
      "Cocula 14024\n",
      "Colotlán 14025\n",
      "Concepción de Buenos Aires 14026\n",
      "Cuautitlán de García Barragán 14027\n",
      "Cuautla 14028\n",
      "Cuquío 14029\n",
      "Chapala 14030\n",
      "Chimaltitán 14031\n",
      "Chiquilistlán 14032\n",
      "Degollado 14033\n",
      "Ejutla 14034\n",
      "Encarnación de Díaz 14035\n",
      "Etzatlán 14036\n",
      "El Grullo 14037\n",
      "Guachinango 14038\n",
      "Guadalajara 14039\n",
      "Hostotipaquillo 14040\n",
      "Huejúcar 14041\n",
      "Huejuquilla el Alto 14042\n",
      "La Huerta 14043\n",
      "Ixtlahuacán de los Membrillos 14044\n",
      "Ixtlahuacán del Río 14045\n",
      "Jalostotitlán 14046\n",
      "Jamay 14047\n",
      "Jesús María 14048\n",
      "Jilotlán de los Dolores 14049\n",
      "Jocotepec 14050\n",
      "Juanacatlán 14051\n",
      "Juchitlán 14052\n",
      "Lagos de Moreno 14053\n",
      "El Limón 14054\n",
      "Magdalena 14055\n",
      "Santa María del Oro 14056\n",
      "La Manzanilla de la Paz 14057\n",
      "Mascota 14058\n",
      "Mazamitla 14059\n",
      "Mexticacán 14060\n",
      "Mezquitic 14061\n",
      "Mixtlán 14062\n",
      "Ocotlán 14063\n",
      "Ojuelos de Jalisco 14064\n",
      "Pihuamo 14065\n",
      "Poncitlán 14066\n",
      "Puerto Vallarta 14067\n",
      "Villa Purificación 14068\n",
      "Quitupan 14069\n",
      "El Salto 14070\n",
      "San Cristóbal de la Barranca 14071\n",
      "San Diego de Alejandría 14072\n",
      "San Juan de los Lagos 14073\n",
      "San Julián 14074\n",
      "San Marcos 14075\n",
      "San Martín de Bolaños 14076\n",
      "San Martín Hidalgo 14077\n",
      "San Miguel el Alto 14078\n",
      "Gómez Farías 14079\n",
      "San Sebastián del Oeste 14080\n",
      "Santa María de los Ángeles 14081\n",
      "Sayula 14082\n",
      "Tala 14083\n",
      "Talpa de Allende 14084\n",
      "Tamazula de Gordiano 14085\n",
      "Tapalpa 14086\n",
      "Tecalitlán 14087\n",
      "Tecolotlán 14088\n",
      "Techaluta de Montenegro 14089\n",
      "Tenamaxtlán 14090\n",
      "Teocaltiche 14091\n",
      "Teocuitatlán de Corona 14092\n",
      "Tepatitlán de Morelos 14093\n",
      "Tequila 14094\n",
      "Teuchitlán 14095\n",
      "Tizapán el Alto 14096\n",
      "Tlajomulco de Zúñiga 14097\n",
      "San Pedro Tlaquepaque 14098\n",
      "Tolimán 14099\n",
      "Tomatlán 14100\n",
      "Tonalá 14101\n",
      "Tonaya 14102\n",
      "Tonila 14103\n",
      "Totatiche 14104\n",
      "Tototlán 14105\n",
      "Tuxcacuesco 14106\n",
      "Tuxcueca 14107\n",
      "Tuxpan 14108\n",
      "Unión de San Antonio 14109\n",
      "Unión de Tula 14110\n",
      "Valle de Guadalupe 14111\n",
      "Valle de Juárez 14112\n",
      "San Gabriel 14113\n",
      "Villa Corona 14114\n",
      "Villa Guerrero 14115\n",
      "Villa Hidalgo 14116\n",
      "Cañadas de Obregón 14117\n",
      "Yahualica de González Gallo 14118\n",
      "Zacoalco de Torres 14119\n",
      "Zapopan 14120\n",
      "Zapotiltic 14121\n",
      "Zapotitlán de Vadillo 14122\n",
      "Zapotlán del Rey 14123\n",
      "Zapotlanejo 14124\n",
      "San Ignacio Cerro Gordo 14125\n",
      "Azcapotzalco 9002\n",
      "Coyoacán 9003\n",
      "Cuajimalpa de Morelos 9004\n",
      "Gustavo A. Madero 9005\n",
      "Iztacalco 9006\n",
      "Iztapalapa 9007\n",
      "La Magdalena Contreras 9008\n",
      "Milpa Alta 9009\n",
      "Álvaro Obregón 9010\n",
      "Tláhuac 9011\n",
      "Tlalpan 9012\n",
      "Xochimilco 9013\n",
      "Benito Juárez 9014\n",
      "Cuauhtémoc 9015\n",
      "Miguel Hidalgo 9016\n",
      "Venustiano Carranza 9017\n",
      "Amacuzac 17001\n",
      "Atlatlahucan 17002\n",
      "Axochiapan 17003\n",
      "Ayala 17004\n",
      "Coatlán del Río 17005\n",
      "Cuautla 17006\n",
      "Cuernavaca 17007\n",
      "Emiliano Zapata 17008\n",
      "Huitzilac 17009\n",
      "Jantetelco 17010\n",
      "Jiutepec 17011\n",
      "Jojutla 17012\n",
      "Jonacatepec de Leandro Valle 17013\n",
      "Mazatepec 17014\n",
      "Miacatlán 17015\n",
      "Ocuituco 17016\n",
      "Puente de Ixtla 17017\n",
      "Temixco 17018\n",
      "Tepalcingo 17019\n",
      "Tepoztlán 17020\n",
      "Tetecala 17021\n",
      "Tetela del Volcán 17022\n",
      "Tlalnepantla 17023\n",
      "Tlaltizapán de Zapata 17024\n",
      "Tlaquiltenango 17025\n",
      "Tlayacapan 17026\n",
      "Totolapan 17027\n",
      "Xochitepec 17028\n",
      "Yautepec 17029\n",
      "Yecapixtla 17030\n",
      "Zacatepec 17031\n",
      "Zacualpan de Amilpas 17032\n",
      "Temoac 17033\n",
      "Coatetelco 17034\n",
      "Xoxocotla 17035\n",
      "Hueyapan 17036\n",
      "Error Hueyapan 17036\n",
      "Acambay de Ruíz Castañeda 15001\n",
      "Acolman 15002\n",
      "Aculco 15003\n",
      "Almoloya de Alquisiras 15004\n",
      "Almoloya de Juárez 15005\n",
      "Almoloya del Río 15006\n",
      "Amanalco 15007\n",
      "Amatepec 15008\n",
      "Amecameca 15009\n",
      "Apaxco 15010\n",
      "Atenco 15011\n",
      "Atizapán 15012\n",
      "Atizapán de Zaragoza 15013\n",
      "Atlacomulco 15014\n",
      "Atlautla 15015\n",
      "Axapusco 15016\n",
      "Ayapango 15017\n",
      "Calimaya 15018\n",
      "Capulhuac 15019\n",
      "Coacalco de Berriozábal 15020\n",
      "Coatepec Harinas 15021\n",
      "Cocotitlán 15022\n",
      "Coyotepec 15023\n",
      "Cuautitlán 15024\n",
      "Chalco 15025\n",
      "Chapa de Mota 15026\n",
      "Chapultepec 15027\n",
      "Chiautla 15028\n",
      "Chicoloapan 15029\n",
      "Chiconcuac 15030\n",
      "Chimalhuacán 15031\n",
      "Donato Guerra 15032\n",
      "Ecatepec de Morelos 15033\n",
      "Ecatzingo 15034\n",
      "Huehuetoca 15035\n",
      "Hueypoxtla 15036\n",
      "Huixquilucan 15037\n",
      "Isidro Fabela 15038\n",
      "Ixtapaluca 15039\n",
      "Ixtapan de la Sal 15040\n",
      "Ixtapan del Oro 15041\n",
      "Ixtlahuaca 15042\n",
      "Xalatlaco 15043\n",
      "Jaltenco 15044\n",
      "Jilotepec 15045\n",
      "Jilotzingo 15046\n",
      "Jiquipilco 15047\n",
      "Jocotitlán 15048\n",
      "Joquicingo 15049\n",
      "Juchitepec 15050\n",
      "Lerma 15051\n",
      "Malinalco 15052\n",
      "Melchor Ocampo 15053\n",
      "Metepec 15054\n",
      "Mexicaltzingo 15055\n",
      "Morelos 15056\n",
      "Naucalpan de Juárez 15057\n",
      "Nezahualcóyotl 15058\n",
      "Nextlalpan 15059\n",
      "Nicolás Romero 15060\n",
      "Nopaltepec 15061\n",
      "Ocoyoacac 15062\n",
      "Ocuilan 15063\n",
      "El Oro 15064\n",
      "Otumba 15065\n",
      "Otzoloapan 15066\n",
      "Otzolotepec 15067\n",
      "Ozumba 15068\n",
      "Papalotla 15069\n",
      "La Paz 15070\n",
      "Polotitlán 15071\n",
      "Rayón 15072\n",
      "San Antonio la Isla 15073\n",
      "San Felipe del Progreso 15074\n",
      "San Martín de las Pirámides 15075\n",
      "San Mateo Atenco 15076\n",
      "San Simón de Guerrero 15077\n",
      "Santo Tomás 15078\n",
      "Soyaniquilpan de Juárez 15079\n",
      "Sultepec 15080\n",
      "Tecámac 15081\n",
      "Tejupilco 15082\n",
      "Temamatla 15083\n",
      "Temascalapa 15084\n",
      "Temascalcingo 15085\n",
      "Temascaltepec 15086\n",
      "Temoaya 15087\n",
      "Tenancingo 15088\n",
      "Tenango del Aire 15089\n",
      "Tenango del Valle 15090\n",
      "Teoloyucan 15091\n",
      "Teotihuacán 15092\n",
      "Tepetlaoxtoc 15093\n",
      "Tepetlixpa 15094\n",
      "Tepotzotlán 15095\n",
      "Tequixquiac 15096\n",
      "Texcaltitlán 15097\n",
      "Texcalyacac 15098\n",
      "Texcoco 15099\n",
      "Tezoyuca 15100\n",
      "Tianguistenco 15101\n",
      "Timilpan 15102\n",
      "Tlalmanalco 15103\n",
      "Tlalnepantla de Baz 15104\n",
      "Tlatlaya 15105\n",
      "Toluca 15106\n",
      "Tonatico 15107\n",
      "Tultepec 15108\n",
      "Tultitlán 15109\n",
      "Valle de Bravo 15110\n",
      "Villa de Allende 15111\n",
      "Villa del Carbón 15112\n",
      "Villa Guerrero 15113\n",
      "Villa Victoria 15114\n",
      "Xonacatlán 15115\n",
      "Zacazonapan 15116\n",
      "Zacualpan 15117\n",
      "Zinacantepec 15118\n",
      "Zumpahuacán 15119\n",
      "Zumpango 15120\n",
      "Cuautitlán Izcalli 15121\n",
      "Valle de Chalco Solidaridad 15122\n",
      "Luvianos 15123\n",
      "San José del Rincón 15124\n",
      "Tonanitla 15125\n",
      "Errors\n",
      "{'Hueyapan': '17036'}\n"
     ]
    }
   ],
   "source": [
    "capacidad_hospitalaria.download()\n",
    "covid_municipalities.download(keep_current_downloads=True)"
   ]
  },
  {
   "cell_type": "markdown",
   "metadata": {},
   "source": [
    "# Compute Targets for Binary Classification"
   ]
  },
  {
   "cell_type": "code",
   "execution_count": 4,
   "metadata": {},
   "outputs": [
    {
     "name": "stdout",
     "output_type": "stream",
     "text": [
      "ALTA ESPECIALIDAD DE IXTAPALUCA\n",
      "ALTA ESPECIALIDAD DE ZUMPANGO\n",
      "BELISARIO DOMINGUEZ\n",
      "CENTRO MEDICO 20 DE NOVIEMBRE\n",
      "CENTRO MÉDICO 20 DE NOVIEMBRE\n",
      "CENTRO MÉDICO ADOLFO LÓPEZ MATEOS\n",
      "CENTRO MÉDICO TOLUCA ISSEMYM\n",
      "CITIBANAMEX\n",
      "CRIT IZTAPALAPA\n",
      "CRIT NEZAHUALCÓYOTL\n",
      "ENRIQUE CABRERA\n",
      "GENERAL TLAHUAC\n",
      "H.G.TOLUCA\n",
      "HG DARIO FERNANDEZ FIERRO\n",
      "HG DR FERNANDO QUIROZ\n",
      "HG IGNACIO ZARAGOZA\n",
      "HG JOSE MARIA MORELOS\n",
      "HG JOSÉ MARÍA MORELOS\n",
      "HG TACUBA\n",
      "HG TOLUCA\n",
      "HINF CMN LA RAZA\n",
      "HOSPITAL DE ESPECIALIDAD 01 CMN SIGLO XXI (CDMX SUR)\n",
      "HOSPITAL DE ESPECIALIDADES 01 (CDMX NORTE) LA RAZA\n",
      "HOSPITAL DE ESPECIALIDADES 01 (CDMX NORTE) LA RAZA (AZC)\n",
      "HOSPITAL DE ESPECIALIDADES 01 CMN SIGLO XXI\n",
      "HOSPITAL DE ESPECIALIDADES 01 CMN SIGLO XXI (CDMX SUR)\n"
     ]
    },
    {
     "name": "stderr",
     "output_type": "stream",
     "text": [
      "/Users/lsanchez/omath_mota_rulo/data_scientia/features/critical_peaks.py:99: SettingWithCopyWarning: \n",
      "A value is trying to be set on a copy of a slice from a DataFrame\n",
      "\n",
      "See the caveats in the documentation: https://pandas.pydata.org/pandas-docs/stable/user_guide/indexing.html#returning-a-view-versus-a-copy\n",
      "  hospital_data.sort_values('fecha', inplace=True)\n"
     ]
    },
    {
     "name": "stdout",
     "output_type": "stream",
     "text": [
      "HOSPITAL DE ESPECIALIDADES DE LA CIUDAD DE MÉXICO DR BELISARIO DOMÍNGUEZ\n",
      "HOSPITAL DE INFECTOLOGIA 01 LA RAZA (CDMX NORTE)\n",
      "HOSPITAL DE INFECTOLOGÍA 01 LA RAZA (CDMX NORTE)\n",
      "HOSPITAL DE PEDIATRIA 01 CMN SIGLO XXI (CDMX SUR)\n",
      "HOSPITAL DE PEDIATRÍA 01 CMN SIGLO XXI (CDMX SUR)\n",
      "HOSPITAL GENERAL 01 (CDMX NORTE)\n",
      "HOSPITAL GENERAL 01 (CDMX NORTE)  LA RAZA\n",
      "HOSPITAL GENERAL 01 (CDMX NORTE) LA RAZA\n",
      "HOSPITAL GENERAL 02 (CDMX SUR) VILLA COAPA\n",
      "HOSPITAL GENERAL 02 (CDMX SUR) VILLA COAPA (COY.)\n",
      "HOSPITAL GENERAL AJUSCO MEDIO\n",
      "HOSPITAL GENERAL AMECAMECA \"VALENTIN GOMEZ FARIAS\"\n",
      "HOSPITAL GENERAL ATIZAPAN DE ZARAGOZA \"DR. SALVADOR GONZALEZ HERREJÓN\"\n",
      "HOSPITAL GENERAL BALBUENA\n",
      "HOSPITAL GENERAL CUAUTITLAN \"GRAL. JOSE VICENTE VILLADA\"\n",
      "HOSPITAL GENERAL DE AXAPUSCO\n",
      "HOSPITAL GENERAL DE CHALCO\n",
      "HOSPITAL GENERAL DE CHIMALHUACAN\n",
      "HOSPITAL GENERAL DE ECATEPEC \"JOSÉ MARÍA RODRÍGUEZ\"\n",
      "HOSPITAL GENERAL DE IXTAPALUCA \"PEDRO LOPEZ\"\n",
      "HOSPITAL GENERAL DE MÉXICO\n",
      "HOSPITAL GENERAL DE NAUCALPAN \"DR. MAXIMILIANO RUIZ CASTAÑEDA\"\n",
      "HOSPITAL GENERAL DE NEZAHUALCOYOTL \"GUSTAVO BAZ PRADA\"\n",
      "HOSPITAL GENERAL DE ZONA 01 CARLOS MC GREGOR (CDMX SUR)\n",
      "HOSPITAL GENERAL DE ZONA 194\n",
      "HOSPITAL GENERAL DE ZONA 197\n",
      "HOSPITAL GENERAL DE ZONA 1A PARQUE DE LOS VENADOS (CDMX SUR)\n",
      "HOSPITAL GENERAL DE ZONA 24 (CDMX NORTE)\n",
      "HOSPITAL GENERAL DE ZONA 27 (CDMX NORTE)\n",
      "HOSPITAL GENERAL DE ZONA 2A (CDMX SUR)\n",
      "HOSPITAL GENERAL DE ZONA 30 (CDMX SUR)\n",
      "HOSPITAL GENERAL DE ZONA 32 (CDMX SUR)\n",
      "HOSPITAL GENERAL DE ZONA 47 (CDMX SUR) (IZP)\n",
      "HOSPITAL GENERAL DE ZONA 53\n",
      "HOSPITAL GENERAL DE ZONA 57 (LA QUEBRADA)\n",
      "HOSPITAL GENERAL DE ZONA 58 (LAS MARGARITAS)\n",
      "HOSPITAL GENERAL DE ZONA 68 (TULPETLAC)\n",
      "HOSPITAL GENERAL DE ZONA 71 (CHALCO)\n",
      "HOSPITAL GENERAL DE ZONA 76 (XALOSTOC)\n",
      "HOSPITAL GENERAL DE ZONA 98 (COACALCO)\n",
      "HOSPITAL GENERAL DE ZONA C/MF 08 (CDMX SUR)\n",
      "HOSPITAL GENERAL DE ZONA C/MF 29 (S. JUAN ARAGÓN)\n",
      "HOSPITAL GENERAL DE ZONA C/UMAA 48 (CDMX NORTE)\n",
      "HOSPITAL GENERAL DR ENRIQUE CABRERA\n",
      "HOSPITAL GENERAL DR MANUEL GEA GONZÁLEZ\n",
      "HOSPITAL GENERAL DR. MANUEL GEA GONZÁLEZ\n",
      "HOSPITAL GENERAL DR. RUBÉN LEÑERO\n",
      "HOSPITAL GENERAL ECATEPEC \"LAS AMÉRICAS\"\n",
      "HOSPITAL GENERAL IZTAPALAPA\n",
      "HOSPITAL GENERAL MILPA ALTA\n",
      "HOSPITAL GENERAL NEZAHUALCOYOTL \"LA PERLA\"\n",
      "HOSPITAL GENERAL REGIONAL 196\n",
      "HOSPITAL GENERAL REGIONAL 200\n",
      "HOSPITAL GENERAL REGIONAL 220\n",
      "HOSPITAL GENERAL REGIONAL 251\n",
      "HOSPITAL GENERAL REGIONAL 72\n",
      "HOSPITAL GENERAL TEXCOCO \"GUADALUPE VICTORIA\" BICENTENARIO\n",
      "HOSPITAL GENERAL TLÁHUAC\n",
      "HOSPITAL GENERAL VALLE DE CHALCO \"DR. FERNANDO QUIROZ GUTIERREZ\"\n",
      "HOSPITAL GENERAL VILLA\n",
      "HOSPITAL GENERAL XOCO\n",
      "HOSPITAL INFANTIL DE MÉXICO FEDERICO GÓMEZ\n",
      "HOSPITAL JUAREZ\n",
      "HOSPITAL JUÁREZ\n",
      "HOSPITAL PARA EL NIÑO IMIEM\n",
      "HOSPITAL PEDIÁTRICO DE LA VILLA\n",
      "HOSPITAL PEDIÁTRICO LA VILLA\n",
      "HOSPITAL REGIONAL DE ALTA ESPECIALIDAD DE IXTAPALUCA\n",
      "HOSPITAL REGIONAL TLALNEPANTLA ISSEMYM\n",
      "HOSPITAL REGIONAL TLANEPANTLA ISSEMYM\n",
      "HR BICENTARIO DE LA INDEPENDENCIA\n",
      "HR BICENTENARIO DE LA INDEPENDENCIA\n",
      "HR LIC ADOLFO LÓPEZ MATEOS\n",
      "HR LIC. ADOLFO LÓPEZ MATEOS\n",
      "HR PRIMERO DE OCTUBRE\n",
      "INER\n",
      "INSTITUTO  NACIONAL DE CARDIOLOGÍA IGNACIO CHÁVEZ\n",
      "INSTITUTO NACIONAL DE CARDIOLOGÍA IGNACIO CHÁVEZ\n",
      "INSTITUTO NACIONAL DE ENFERMEDADES RESPIRATORIAS\n",
      "INSTITUTO NACIONAL DE NUTRICIÓN\n",
      "PEDIATRICO DE LA VILLA\n",
      "UNIDAD MÓVIL TEMPORAL COVID\n",
      "/Users/lsanchez/omath_mota_rulo/data/processed/target_days_to_peak.csv.gz\n"
     ]
    }
   ],
   "source": [
    "target_days_to_peak.process()"
   ]
  },
  {
   "cell_type": "markdown",
   "metadata": {},
   "source": [
    "# Compute Features and Append the Target"
   ]
  },
  {
   "cell_type": "code",
   "execution_count": 5,
   "metadata": {},
   "outputs": [
    {
     "name": "stderr",
     "output_type": "stream",
     "text": [
      "/Users/lsanchez/omath_mota_rulo/data_scientia/features/utils/timeseries.py:49: RuntimeWarning: invalid value encountered in greater\n",
      "  return np.where(data > m)[0].size\n",
      "/Users/lsanchez/omath_mota_rulo/data_scientia/features/utils/timeseries.py:54: RuntimeWarning: invalid value encountered in less\n",
      "  return np.where(data < m)[0].size\n",
      "/Users/lsanchez/anaconda3/envs/data_scientia/lib/python3.7/site-packages/numpy/lib/function_base.py:3405: RuntimeWarning: Invalid value encountered in median\n",
      "  r = func(a, **kwargs)\n",
      "/Users/lsanchez/omath_mota_rulo/data_scientia/features/utils/timeseries.py:49: RuntimeWarning: invalid value encountered in greater\n",
      "  return np.where(data > m)[0].size\n",
      "/Users/lsanchez/omath_mota_rulo/data_scientia/features/utils/timeseries.py:54: RuntimeWarning: invalid value encountered in less\n",
      "  return np.where(data < m)[0].size\n",
      "/Users/lsanchez/anaconda3/envs/data_scientia/lib/python3.7/site-packages/numpy/lib/function_base.py:3405: RuntimeWarning: Invalid value encountered in median\n",
      "  r = func(a, **kwargs)\n",
      "/Users/lsanchez/omath_mota_rulo/data_scientia/features/utils/timeseries.py:49: RuntimeWarning: invalid value encountered in greater\n",
      "  return np.where(data > m)[0].size\n",
      "/Users/lsanchez/omath_mota_rulo/data_scientia/features/utils/timeseries.py:54: RuntimeWarning: invalid value encountered in less\n",
      "  return np.where(data < m)[0].size\n",
      "/Users/lsanchez/anaconda3/envs/data_scientia/lib/python3.7/site-packages/numpy/lib/function_base.py:3405: RuntimeWarning: Invalid value encountered in median\n",
      "  r = func(a, **kwargs)\n",
      "/Users/lsanchez/omath_mota_rulo/data_scientia/features/utils/timeseries.py:49: RuntimeWarning: invalid value encountered in greater\n",
      "  return np.where(data > m)[0].size\n",
      "/Users/lsanchez/omath_mota_rulo/data_scientia/features/utils/timeseries.py:54: RuntimeWarning: invalid value encountered in less\n",
      "  return np.where(data < m)[0].size\n",
      "/Users/lsanchez/anaconda3/envs/data_scientia/lib/python3.7/site-packages/numpy/lib/function_base.py:3405: RuntimeWarning: Invalid value encountered in median\n",
      "  r = func(a, **kwargs)\n",
      "/Users/lsanchez/omath_mota_rulo/data_scientia/features/utils/timeseries.py:49: RuntimeWarning: invalid value encountered in greater\n",
      "  return np.where(data > m)[0].size\n",
      "/Users/lsanchez/omath_mota_rulo/data_scientia/features/utils/timeseries.py:54: RuntimeWarning: invalid value encountered in less\n",
      "  return np.where(data < m)[0].size\n",
      "/Users/lsanchez/anaconda3/envs/data_scientia/lib/python3.7/site-packages/numpy/lib/function_base.py:3405: RuntimeWarning: Invalid value encountered in median\n",
      "  r = func(a, **kwargs)\n",
      "/Users/lsanchez/omath_mota_rulo/data_scientia/features/utils/timeseries.py:49: RuntimeWarning: invalid value encountered in greater\n",
      "  return np.where(data > m)[0].size\n",
      "/Users/lsanchez/omath_mota_rulo/data_scientia/features/utils/timeseries.py:54: RuntimeWarning: invalid value encountered in less\n",
      "  return np.where(data < m)[0].size\n",
      "/Users/lsanchez/anaconda3/envs/data_scientia/lib/python3.7/site-packages/numpy/lib/function_base.py:3405: RuntimeWarning: Invalid value encountered in median\n",
      "  r = func(a, **kwargs)\n",
      "/Users/lsanchez/omath_mota_rulo/data_scientia/features/utils/timeseries.py:49: RuntimeWarning: invalid value encountered in greater\n",
      "  return np.where(data > m)[0].size\n",
      "/Users/lsanchez/omath_mota_rulo/data_scientia/features/utils/timeseries.py:54: RuntimeWarning: invalid value encountered in less\n",
      "  return np.where(data < m)[0].size\n",
      "/Users/lsanchez/anaconda3/envs/data_scientia/lib/python3.7/site-packages/numpy/lib/function_base.py:3405: RuntimeWarning: Invalid value encountered in median\n",
      "  r = func(a, **kwargs)\n"
     ]
    },
    {
     "name": "stdout",
     "output_type": "stream",
     "text": [
      "/Users/lsanchez/omath_mota_rulo/data/processed/train_data.csv.gz\n"
     ]
    }
   ],
   "source": [
    "train_data.process()"
   ]
  }
 ],
 "metadata": {
  "kernelspec": {
   "display_name": "Python 3",
   "language": "python",
   "name": "python3"
  },
  "language_info": {
   "codemirror_mode": {
    "name": "ipython",
    "version": 3
   },
   "file_extension": ".py",
   "mimetype": "text/x-python",
   "name": "python",
   "nbconvert_exporter": "python",
   "pygments_lexer": "ipython3",
   "version": "3.7.3"
  }
 },
 "nbformat": 4,
 "nbformat_minor": 2
}
