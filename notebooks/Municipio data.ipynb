{
 "cells": [
  {
   "cell_type": "code",
   "execution_count": 1,
   "metadata": {},
   "outputs": [
    {
     "name": "stderr",
     "output_type": "stream",
     "text": [
      "In /Users/lsanchez/anaconda3/envs/py37/lib/python3.7/site-packages/matplotlib/mpl-data/stylelib/_classic_test.mplstyle: \n",
      "The text.latex.unicode rcparam was deprecated in Matplotlib 3.0 and will be removed in 3.2.\n",
      "In /Users/lsanchez/anaconda3/envs/py37/lib/python3.7/site-packages/matplotlib/mpl-data/stylelib/_classic_test.mplstyle: \n",
      "The savefig.frameon rcparam was deprecated in Matplotlib 3.1 and will be removed in 3.3.\n",
      "In /Users/lsanchez/anaconda3/envs/py37/lib/python3.7/site-packages/matplotlib/mpl-data/stylelib/_classic_test.mplstyle: \n",
      "The pgf.debug rcparam was deprecated in Matplotlib 3.0 and will be removed in 3.2.\n",
      "In /Users/lsanchez/anaconda3/envs/py37/lib/python3.7/site-packages/matplotlib/mpl-data/stylelib/_classic_test.mplstyle: \n",
      "The verbose.level rcparam was deprecated in Matplotlib 3.1 and will be removed in 3.3.\n",
      "In /Users/lsanchez/anaconda3/envs/py37/lib/python3.7/site-packages/matplotlib/mpl-data/stylelib/_classic_test.mplstyle: \n",
      "The verbose.fileo rcparam was deprecated in Matplotlib 3.1 and will be removed in 3.3.\n"
     ]
    },
    {
     "name": "stdout",
     "output_type": "stream",
     "text": [
      "Added: /Users/lsanchez/omath_mota_rulo\n"
     ]
    }
   ],
   "source": [
    "%matplotlib inline\n",
    "\n",
    "import os\n",
    "import json\n",
    "import math\n",
    "import sys\n",
    "import numpy as np\n",
    "import pandas as pd\n",
    "import datetime\n",
    "\n",
    "import matplotlib.pyplot as plt\n",
    "from matplotlib.dates import date2num\n",
    "\n",
    "notebook_path = !pwd\n",
    "prj_path = os.path.abspath(os.path.join(notebook_path[0], '../', ''))\n",
    "sys.path.append(prj_path)\n",
    "print('Added: %s' % prj_path)"
   ]
  },
  {
   "cell_type": "code",
   "execution_count": 2,
   "metadata": {},
   "outputs": [
    {
     "name": "stderr",
     "output_type": "stream",
     "text": [
      "/Users/lsanchez/anaconda3/envs/py37/lib/python3.7/site-packages/statsmodels/tools/_testing.py:19: FutureWarning: pandas.util.testing is deprecated. Use the functions in the public API at pandas.testing instead.\n",
      "  import pandas.util.testing as tm\n",
      "/Users/lsanchez/anaconda3/envs/py37/lib/python3.7/site-packages/statsmodels/compat/pandas.py:23: FutureWarning: The Panel class is removed from pandas. Accessing it from the top-level namespace will also be removed in the next version\n",
      "  data_klasses = (pandas.Series, pandas.DataFrame, pandas.Panel)\n"
     ]
    }
   ],
   "source": [
    "from data_scientia import config\n",
    "from data_scientia.data import capacidad_hospitalaria\n",
    "from data_scientia.data import municipios\n",
    "from data_scientia.features import critical_peaks\n",
    "from data_scientia.features import target_days_to_peak\n",
    "from data_scientia.features import hospital\n",
    "from data_scientia.features import train_data\n",
    "from data_scientia.visualization import hospital_timeline"
   ]
  },
  {
   "cell_type": "code",
   "execution_count": 3,
   "metadata": {},
   "outputs": [],
   "source": [
    "dataset = train_data.get()"
   ]
  },
  {
   "cell_type": "code",
   "execution_count": 4,
   "metadata": {},
   "outputs": [
    {
     "name": "stderr",
     "output_type": "stream",
     "text": [
      "/Users/lsanchez/anaconda3/envs/py37/lib/python3.7/site-packages/ipykernel_launcher.py:1: DtypeWarning: Columns (13) have mixed types.Specify dtype option on import or set low_memory=False.\n",
      "  \"\"\"Entry point for launching an IPython kernel.\n"
     ]
    },
    {
     "ename": "UnboundLocalError",
     "evalue": "local variable 'municipios_data' referenced before assignment",
     "output_type": "error",
     "traceback": [
      "\u001b[0;31m---------------------------------------------------------------------------\u001b[0m",
      "\u001b[0;31mUnboundLocalError\u001b[0m                         Traceback (most recent call last)",
      "\u001b[0;32m<ipython-input-4-10fac2be3422>\u001b[0m in \u001b[0;36m<module>\u001b[0;34m\u001b[0m\n\u001b[0;32m----> 1\u001b[0;31m \u001b[0mmunicipio_codes_dict\u001b[0m \u001b[0;34m=\u001b[0m \u001b[0mmunicipios\u001b[0m\u001b[0;34m.\u001b[0m\u001b[0mget_municipio_codes\u001b[0m\u001b[0;34m(\u001b[0m\u001b[0;34m)\u001b[0m\u001b[0;34m\u001b[0m\u001b[0;34m\u001b[0m\u001b[0m\n\u001b[0m",
      "\u001b[0;32m~/omath_mota_rulo/data_scientia/data/municipios.py\u001b[0m in \u001b[0;36mget_municipio_codes\u001b[0;34m(state_name)\u001b[0m\n\u001b[1;32m    113\u001b[0m \u001b[0;34m\u001b[0m\u001b[0m\n\u001b[1;32m    114\u001b[0m     \u001b[0;31m# Get a dictionary municipio codes and their municipio names\u001b[0m\u001b[0;34m\u001b[0m\u001b[0;34m\u001b[0m\u001b[0;34m\u001b[0m\u001b[0m\n\u001b[0;32m--> 115\u001b[0;31m     municipio_codes = municipios_data[[\n\u001b[0m\u001b[1;32m    116\u001b[0m         \u001b[0;34m'Nom_Mun'\u001b[0m\u001b[0;34m,\u001b[0m \u001b[0;34m'Cve_Ent_Mun'\u001b[0m\u001b[0;34m\u001b[0m\u001b[0;34m\u001b[0m\u001b[0m\n\u001b[1;32m    117\u001b[0m     ]].drop_duplicates().set_index(\n",
      "\u001b[0;31mUnboundLocalError\u001b[0m: local variable 'municipios_data' referenced before assignment"
     ]
    }
   ],
   "source": [
    "municipio_codes_dict = municipios.get_municipio_codes()"
   ]
  },
  {
   "cell_type": "code",
   "execution_count": null,
   "metadata": {},
   "outputs": [],
   "source": [
    "config.VERBOSE = False\n",
    "\n",
    "data = capacidad_hospitalaria.get()\n",
    "data.shape"
   ]
  },
  {
   "cell_type": "code",
   "execution_count": null,
   "metadata": {},
   "outputs": [],
   "source": [
    "peaks_data = critical_peaks.get()\n",
    "peaks_data.shape"
   ]
  },
  {
   "cell_type": "code",
   "execution_count": null,
   "metadata": {},
   "outputs": [],
   "source": [
    "days_to_peak_data = target_days_to_peak.get()\n",
    "days_to_peak_data.shape"
   ]
  },
  {
   "cell_type": "code",
   "execution_count": null,
   "metadata": {},
   "outputs": [],
   "source": [
    "n_samples = 5\n",
    "\n",
    "sample_hospitals = data[\n",
    "    data['estatus_capacidad_uci'] == 'Crítica'\n",
    "][\n",
    "    'nombre_hospital'\n",
    "].drop_duplicates().sample(\n",
    "    n_samples, \n",
    "    random_state=0)\n",
    "\n",
    "hospital_name = sample_hospitals.iloc[2]\n",
    "\n",
    "hospital_name"
   ]
  },
  {
   "cell_type": "code",
   "execution_count": null,
   "metadata": {},
   "outputs": [],
   "source": [
    "# Get neighbor municipios daily cases"
   ]
  },
  {
   "cell_type": "code",
   "execution_count": null,
   "metadata": {},
   "outputs": [],
   "source": [
    "neighbor_municipios_daily_cases = hospital.get_neighbor_municipio_daily_cases(\n",
    "    hospital_name, \n",
    "    max_meters=15e+3)\n",
    "\n",
    "neighbor_municipios_daily_cases.columns = [\n",
    "    municipio_codes_dict[x] for x in \n",
    "    neighbor_municipios_daily_cases.columns]"
   ]
  },
  {
   "cell_type": "code",
   "execution_count": null,
   "metadata": {},
   "outputs": [],
   "source": [
    "dataset_hospital = dataset[\n",
    "    dataset['nombre_hospital'] == hospital_name\n",
    "].set_index('fecha')"
   ]
  },
  {
   "cell_type": "markdown",
   "metadata": {},
   "source": [
    "# Hospitals timeline"
   ]
  },
  {
   "cell_type": "code",
   "execution_count": null,
   "metadata": {},
   "outputs": [],
   "source": [
    "target_name = 'is_next_peak_in_15_days'"
   ]
  },
  {
   "cell_type": "code",
   "execution_count": null,
   "metadata": {},
   "outputs": [],
   "source": [
    "fig, ax = plt.subplots(1, 1, figsize=(18, 3))\n",
    "\n",
    "hospital_timeline.plot_hospital_timeline(\n",
    "    hospital_name, \n",
    "    ax, \n",
    "    target_name=target_name)\n",
    "ax.set_yticklabels([\n",
    "    '',\n",
    "    '',\n",
    "    '[0%, 49%] occupancy', \n",
    "    '',\n",
    "    '[50%, 90%] occupancy',\n",
    "    '',\n",
    "    '[90%, 100%] occupancy'],\n",
    "    )\n",
    "\n",
    "\n",
    "neighbor_municipios_daily_cases = neighbor_municipios_daily_cases.loc[\n",
    "    data[data['nombre_hospital'] == hospital_name]['fecha'].min():\n",
    "    data[data['nombre_hospital'] == hospital_name]['fecha'].max()]\n",
    "\n",
    "covid_cases = neighbor_municipios_daily_cases.sum(axis=1)\n",
    "\n",
    "data_plot = (covid_cases / 700)\n",
    "data_plot.name = 'daily_covid19_cases'\n",
    "data_plot.plot(\n",
    "    ax=ax_,\n",
    "    legend=True,\n",
    "    alpha=.5,\n",
    "    grid=True,\n",
    "    color='gray')\n",
    "\n",
    "data_plot = (covid_cases.rolling(window=7).sum() / 1200)\n",
    "data_plot.name = 'sum_covid19_cases_last_7_days'\n",
    "data_plot.plot(\n",
    "    ax=ax_,\n",
    "    legend=True,\n",
    "    alpha=.5,\n",
    "    grid=True,\n",
    "    color='gray')\n",
    "\n",
    "fig.set_tight_layout('tight')"
   ]
  },
  {
   "cell_type": "code",
   "execution_count": null,
   "metadata": {},
   "outputs": [],
   "source": []
  },
  {
   "cell_type": "code",
   "execution_count": null,
   "metadata": {},
   "outputs": [],
   "source": [
    "neighbor_municipios_daily_cases = neighbor_municipios_daily_cases.loc[\n",
    "    data[data['nombre_hospital'] == hospital_name]['fecha'].min():\n",
    "    data[data['nombre_hospital'] == hospital_name]['fecha'].max()]\n",
    "\n",
    "features = [\n",
    "    'contagios_sum_7_days_skewness',\n",
    "    'contagios_sum_15_days_skewness', \n",
    "    'contagios_sum_7_days_kurtosis',\n",
    "    'contagios_sum_7_days_count_below_mean'\n",
    "]\n",
    "\n",
    "dataset.set_index('fecha')[features].plot(\n",
    "    alpha=.5)\n",
    "# covid_cases.plot()"
   ]
  },
  {
   "cell_type": "code",
   "execution_count": null,
   "metadata": {},
   "outputs": [],
   "source": [
    "features = [\n",
    "    'contagios_sum_7_days_maximum']\n",
    "\n",
    "dataset.set_index('fecha')[features].plot(\n",
    "    alpha=.5)\n",
    "\n",
    "covid_cases.rolling(window=7).sum().plot()"
   ]
  },
  {
   "cell_type": "code",
   "execution_count": null,
   "metadata": {},
   "outputs": [],
   "source": [
    "covid_cases.rolling(window=7).sum().plot()"
   ]
  },
  {
   "cell_type": "code",
   "execution_count": null,
   "metadata": {},
   "outputs": [],
   "source": []
  }
 ],
 "metadata": {
  "kernelspec": {
   "display_name": "Python 3",
   "language": "python",
   "name": "python3"
  },
  "language_info": {
   "codemirror_mode": {
    "name": "ipython",
    "version": 3
   },
   "file_extension": ".py",
   "mimetype": "text/x-python",
   "name": "python",
   "nbconvert_exporter": "python",
   "pygments_lexer": "ipython3",
   "version": "3.7.3"
  }
 },
 "nbformat": 4,
 "nbformat_minor": 2
}
